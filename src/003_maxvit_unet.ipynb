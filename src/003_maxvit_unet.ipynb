{
 "cells": [
  {
   "attachments": {},
   "cell_type": "markdown",
   "metadata": {},
   "source": [
    "# From:\n",
    "https://www.kaggle.com/code/junkoda/base-unet-model-for-the-1st-place/notebook"
   ]
  },
  {
   "cell_type": "code",
   "execution_count": 1,
   "metadata": {},
   "outputs": [],
   "source": [
    "import yaml\n",
    "import timm \n",
    "import torch\n",
    "import torch.nn as nn\n",
    "import torch.nn.functional as F\n",
    "from torch.nn.modules.loss import _Loss\n",
    "import segmentation_models_pytorch as smp\n",
    "from segmentation_models_pytorch.base.initialization import initialize_decoder\n",
    "from segmentation_models_pytorch.base import modules as md"
   ]
  },
  {
   "cell_type": "code",
   "execution_count": 2,
   "metadata": {},
   "outputs": [
    {
     "data": {
      "text/plain": [
       "('0.9.2', '1.11.0')"
      ]
     },
     "execution_count": 2,
     "metadata": {},
     "output_type": "execute_result"
    }
   ],
   "source": [
    "timm.__version__, torch.__version__"
   ]
  },
  {
   "cell_type": "code",
   "execution_count": 4,
   "metadata": {},
   "outputs": [],
   "source": [
    "\"\"\"\n",
    "U-Net decoder from Segmentation Models PyTorch\n",
    "https://github.com/qubvel/segmentation_models.pytorch\n",
    "\"\"\"\n",
    "class DecoderBlock(nn.Module):\n",
    "    def __init__(\n",
    "        self,\n",
    "        in_channels,\n",
    "        skip_channels,\n",
    "        out_channels,\n",
    "        use_batchnorm=True,\n",
    "        dropout=0,\n",
    "    ):\n",
    "        super().__init__()\n",
    "\n",
    "        conv_in_channels = in_channels + skip_channels\n",
    "\n",
    "        # Convolve input embedding and upscaled embedding\n",
    "        self.conv1 = md.Conv2dReLU(\n",
    "            conv_in_channels,\n",
    "            out_channels,\n",
    "            kernel_size=3,\n",
    "            padding=1,\n",
    "            use_batchnorm=use_batchnorm,\n",
    "        )\n",
    "\n",
    "        self.conv2 = md.Conv2dReLU(\n",
    "            out_channels,\n",
    "            out_channels,\n",
    "            kernel_size=3,\n",
    "            padding=1,\n",
    "            use_batchnorm=use_batchnorm,\n",
    "        )\n",
    "\n",
    "        self.dropout_skip = nn.Dropout(p=dropout)\n",
    "\n",
    "    def forward(self, x, skip=None):\n",
    "        x = F.interpolate(x, scale_factor=2, mode='nearest')\n",
    "        if skip is not None:\n",
    "            skip = self.dropout_skip(skip)\n",
    "            x = torch.cat([x, skip], dim=1)\n",
    "\n",
    "        x = self.conv1(x)\n",
    "        x = self.conv2(x)\n",
    "\n",
    "        return x\n",
    "\n",
    "\n",
    "class UnetDecoder(nn.Module):\n",
    "    def __init__(\n",
    "        self,\n",
    "        encoder_channels,\n",
    "        decoder_channels,\n",
    "        use_batchnorm=True,\n",
    "        dropout=0,\n",
    "    ):\n",
    "        super().__init__()\n",
    "\n",
    "        encoder_channels = encoder_channels[::-1]\n",
    "\n",
    "        # Computing blocks input and output channels\n",
    "        head_channels = encoder_channels[0]\n",
    "        in_channels = [head_channels] + list(decoder_channels[:-1])\n",
    "        skip_channels = list(encoder_channels[1:]) + [0]\n",
    "        out_channels = decoder_channels\n",
    "\n",
    "        self.center = nn.Identity()\n",
    "\n",
    "        # Combine decoder keyword arguments\n",
    "        blocks = [\n",
    "            DecoderBlock(in_ch, skip_ch, out_ch, use_batchnorm=use_batchnorm, dropout=dropout)\n",
    "            for in_ch, skip_ch, out_ch in zip(in_channels, skip_channels, out_channels)\n",
    "        ]\n",
    "        self.blocks = nn.ModuleList(blocks)\n",
    "\n",
    "    def forward(self, features):\n",
    "        features = features[::-1]  # reverse channels to start from head of encoder\n",
    "\n",
    "        head = features[0]\n",
    "        skips = features[1:]\n",
    "\n",
    "        x = self.center(head)\n",
    "        for i, decoder_block in enumerate(self.blocks):\n",
    "            skip = skips[i] if i < len(skips) else None\n",
    "            x = decoder_block(x, skip)\n",
    "\n",
    "        return x"
   ]
  },
  {
   "cell_type": "code",
   "execution_count": 5,
   "metadata": {},
   "outputs": [],
   "source": [
    "in_chans = 6\n",
    "\n",
    "cfg = yaml.safe_load(f\"\"\"\n",
    "model:\n",
    "  encoder: maxvit_tiny_tf_512.in1k  # I also use resnest26d\n",
    "  pretrained: False    # Use True! False due to internet connection\n",
    "  decoder_channels: [256, 128, 64, 32, 16]\n",
    "  dropout: 0.0\n",
    "  in_chans: {in_chans}\n",
    "\"\"\")\n",
    "\n",
    "def _check_reduction(reduction_factors):\n",
    "    \"\"\"\n",
    "    Assume spatial dimensions of the features decrease by factors of two.\n",
    "    For example, convnext start with stride=4 cannot be used in my code.\n",
    "    \"\"\"\n",
    "    r_prev = 1\n",
    "    for r in reduction_factors:\n",
    "        if r / r_prev != 2:\n",
    "            raise AssertionError('Reduction assumed to increase by 2: {}'.format(reduction_factors))\n",
    "        r_prev = r\n",
    "\n",
    "class Model(nn.Module):\n",
    "    # The main U-Net model\n",
    "    # See also TimmUniversalEncoder in Segmentation Models PyTorch\n",
    "    def __init__(self, cfg, pretrained=True, tta=None):\n",
    "        super().__init__()\n",
    "        name = cfg['model']['encoder']\n",
    "        dropout = cfg['model']['dropout']\n",
    "        pretrained = pretrained and cfg['model']['pretrained']\n",
    "\n",
    "        self.encoder = timm.create_model(name, \n",
    "                                         features_only=True, \n",
    "                                         pretrained=pretrained, \n",
    "                                         in_chans=cfg['model']['in_chans'],)\n",
    "        encoder_channels = self.encoder.feature_info.channels()\n",
    "\n",
    "        _check_reduction(self.encoder.feature_info.reduction())\n",
    "\n",
    "        decoder_channels = cfg['model']['decoder_channels']  # (256, 128, 64, 32, 16)\n",
    "        print('Encoder channels:', name, encoder_channels)\n",
    "        print('Decoder channels:', decoder_channels)\n",
    "\n",
    "        assert len(encoder_channels) == len(decoder_channels)\n",
    "\n",
    "        self.decoder = UnetDecoder(\n",
    "            encoder_channels=encoder_channels,\n",
    "            decoder_channels=decoder_channels,\n",
    "            dropout=dropout,\n",
    "        )\n",
    "\n",
    "        self.segmentation_head = smp.base.SegmentationHead(\n",
    "            in_channels=decoder_channels[-1],\n",
    "            out_channels=1, activation=None, kernel_size=3,\n",
    "        )\n",
    "\n",
    "        initialize_decoder(self.decoder)        \n",
    "\n",
    "    def forward(self, x):\n",
    "        features = self.encoder(x)\n",
    "        decoder_output = self.decoder(features)\n",
    "        y_pred = self.segmentation_head(decoder_output)\n",
    "\n",
    "        return y_pred"
   ]
  },
  {
   "cell_type": "code",
   "execution_count": 6,
   "metadata": {},
   "outputs": [
    {
     "name": "stdout",
     "output_type": "stream",
     "text": [
      "Encoder channels: maxvit_tiny_tf_512.in1k [64, 64, 128, 256, 512]\n",
      "Decoder channels: [256, 128, 64, 32, 16]\n"
     ]
    }
   ],
   "source": [
    "model = Model(cfg=cfg)"
   ]
  },
  {
   "cell_type": "code",
   "execution_count": 7,
   "metadata": {},
   "outputs": [
    {
     "data": {
      "text/plain": [
       "torch.Size([2, 1, 512, 512])"
      ]
     },
     "execution_count": 7,
     "metadata": {},
     "output_type": "execute_result"
    }
   ],
   "source": [
    "inputs = torch.zeros(2, in_chans, 512, 512)\n",
    "outputs = model(inputs)\n",
    "outputs.shape"
   ]
  },
  {
   "cell_type": "code",
   "execution_count": null,
   "metadata": {},
   "outputs": [],
   "source": []
  }
 ],
 "metadata": {
  "kernelspec": {
   "display_name": "Python 3 (ipykernel)",
   "language": "python",
   "name": "python3"
  },
  "language_info": {
   "codemirror_mode": {
    "name": "ipython",
    "version": 3
   },
   "file_extension": ".py",
   "mimetype": "text/x-python",
   "name": "python",
   "nbconvert_exporter": "python",
   "pygments_lexer": "ipython3",
   "version": "3.8.12"
  }
 },
 "nbformat": 4,
 "nbformat_minor": 4
}
